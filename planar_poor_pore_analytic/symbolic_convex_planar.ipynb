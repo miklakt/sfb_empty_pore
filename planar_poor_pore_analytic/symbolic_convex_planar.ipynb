{
 "cells": [
  {
   "cell_type": "code",
   "execution_count": 213,
   "metadata": {},
   "outputs": [],
   "source": [
    "from IPython.display import Markdown as md\n",
    "from IPython.display import SVG\n",
    "import sympy as sp\n",
    "from sympy import symbols\n",
    "\n",
    "x = symbols(\"x\",positive = True)\n",
    "yp = symbols(\"y^{\\prime}\")\n",
    "y = symbols(\"y\", positive = True)\n",
    "A = symbols(\"A\", positive = True)\n",
    "C= symbols(\"C\")\n",
    "l = symbols(\"\\lambda\", negative = True)\n",
    "s = symbols(\"s\", positive = True)\n",
    "V = symbols(\"V\", positive = True)"
   ]
  },
  {
   "cell_type": "code",
   "execution_count": 214,
   "metadata": {},
   "outputs": [],
   "source": [
    "#SVG(filename =\"drawing.svg\")"
   ]
  },
  {
   "attachments": {},
   "cell_type": "markdown",
   "metadata": {},
   "source": [
    "Minimize surface\n",
    "$$\n",
    "dS = \\sqrt{1+y^{\\prime}} dx\n",
    "$$\n",
    "with constant volume\n",
    "$$\n",
    "dV = y dx\n",
    "$$\n",
    "Functional to minimize\n",
    "$$\n",
    "F = S + \\lambda V\n",
    "$$\n",
    "\n",
    "other constrains:\n",
    "$$\n",
    "y(0) = s/2\n",
    "\\\\\n",
    "\\lim_{x \\to h} y(x) = 0\n",
    "\\\\\n",
    "\\lim_{x \\to h} y^{\\prime}(x) = -\\infty\n",
    "\\\\\n",
    "y^{\\prime\\prime}(x) < 0\n",
    "$$\n",
    "\n",
    "$$\n",
    "F(y^{\\prime}, y) = \\sqrt{1+(y^{\\prime})^2} + \\lambda y\n",
    "$$\n",
    "\n",
    "Beltrami identity\n",
    "\n",
    "$$\n",
    "F - y^{\\prime} \\frac{\\partial F}{\\partial y^{\\prime}} = C\n",
    "$$"
   ]
  },
  {
   "cell_type": "code",
   "execution_count": 215,
   "metadata": {},
   "outputs": [
    {
     "data": {
      "text/markdown": [
       "$$y^{\\prime} \\frac{\\partial F}{\\partial y^{\\prime}} = \\frac{\\left(y^{\\prime}\\right)^{2}}{\\sqrt{\\left(y^{\\prime}\\right)^{2} + 1}}$$"
      ],
      "text/plain": [
       "<IPython.core.display.Markdown object>"
      ]
     },
     "execution_count": 215,
     "metadata": {},
     "output_type": "execute_result"
    }
   ],
   "source": [
    "F = sp.sqrt(1+yp**2) + l*y\n",
    "second = F.diff(yp)*yp\n",
    "second_term = r\"y^{\\prime} \\frac{\\partial F}{\\partial y^{\\prime}}\"\n",
    "md(f\"$${second_term} = {sp.latex(second)}$$\")"
   ]
  },
  {
   "cell_type": "code",
   "execution_count": 216,
   "metadata": {},
   "outputs": [
    {
     "data": {
      "text/latex": [
       "$\\displaystyle - C + \\lambda y - \\frac{\\left(y^{\\prime}\\right)^{2}}{\\sqrt{\\left(y^{\\prime}\\right)^{2} + 1}} + \\sqrt{\\left(y^{\\prime}\\right)^{2} + 1}$"
      ],
      "text/plain": [
       "-C + \\lambda*y - y^{\\prime}**2/sqrt(y^{\\prime}**2 + 1) + sqrt(y^{\\prime}**2 + 1)"
      ]
     },
     "metadata": {},
     "output_type": "display_data"
    },
    {
     "data": {
      "text/latex": [
       "$\\displaystyle - C + \\lambda y + \\frac{1}{\\sqrt{\\left(y^{\\prime}\\right)^{2} + 1}} = 0$"
      ],
      "text/plain": [
       "Eq(-C + \\lambda*y + 1/sqrt(y^{\\prime}**2 + 1), 0)"
      ]
     },
     "execution_count": 216,
     "metadata": {},
     "output_type": "execute_result"
    }
   ],
   "source": [
    "lhs = F - second - C\n",
    "display(lhs)\n",
    "lhs = lhs.simplify()\n",
    "sp.Eq(lhs, 0)\n"
   ]
  },
  {
   "cell_type": "code",
   "execution_count": 217,
   "metadata": {},
   "outputs": [
    {
     "data": {
      "text/markdown": [
       "$$ \\lim_{x \\to h} \\left(- C + \\lambda y + \\frac{1}{\\sqrt{\\left(y^{\\prime}\\right)^{2} + 1}}\\right) = -C \\\\ C =0 $$"
      ],
      "text/plain": [
       "<IPython.core.display.Markdown object>"
      ]
     },
     "execution_count": 217,
     "metadata": {},
     "output_type": "execute_result"
    }
   ],
   "source": [
    "\n",
    "lim_latex = r\"\\lim_{x \\to h}\"\n",
    "md(rf\"$$ {lim_latex} \\left({sp.latex(lhs)}\\right) = -C \\\\ C =0 $$\")"
   ]
  },
  {
   "attachments": {},
   "cell_type": "markdown",
   "metadata": {},
   "source": [
    "$$\n",
    "x \\to h \\\\ y^{\\prime} \\to -\\infty \\\\ y \\to 0 \\\\ \\lambda y \\to 0\n",
    "\\\\\n",
    " \\frac{1}{\\sqrt{\\left(y^{\\prime}\\right)^{2} + 1}} \\to 0\n",
    "$$\n"
   ]
  },
  {
   "cell_type": "code",
   "execution_count": 218,
   "metadata": {},
   "outputs": [
    {
     "data": {
      "text/latex": [
       "$\\displaystyle \\lambda y + \\frac{1}{\\sqrt{\\left(y^{\\prime}\\right)^{2} + 1}} = 0$"
      ],
      "text/plain": [
       "Eq(\\lambda*y + 1/sqrt(y^{\\prime}**2 + 1), 0)"
      ]
     },
     "execution_count": 218,
     "metadata": {},
     "output_type": "execute_result"
    }
   ],
   "source": [
    "lhs = lhs.subs(C, 0)\n",
    "sp.Eq(lhs, 0)"
   ]
  },
  {
   "attachments": {},
   "cell_type": "markdown",
   "metadata": {},
   "source": [
    "$$\n",
    "\\lambda < 0\n",
    "$$"
   ]
  },
  {
   "cell_type": "code",
   "execution_count": 219,
   "metadata": {},
   "outputs": [
    {
     "data": {
      "text/latex": [
       "$\\displaystyle y^{\\prime} = - \\frac{\\sqrt{- \\lambda^{2} y^{2} + 1}}{\\lambda y}$"
      ],
      "text/plain": [
       "Eq(y^{\\prime}, -sqrt(-\\lambda**2*y**2 + 1)/(\\lambda*y))"
      ]
     },
     "metadata": {},
     "output_type": "display_data"
    },
    {
     "data": {
      "text/latex": [
       "$\\displaystyle y^{\\prime} = \\frac{\\sqrt{- \\lambda^{2} y^{2} + 1}}{\\lambda y}$"
      ],
      "text/plain": [
       "Eq(y^{\\prime}, sqrt(-\\lambda**2*y**2 + 1)/(\\lambda*y))"
      ]
     },
     "metadata": {},
     "output_type": "display_data"
    }
   ],
   "source": [
    "yp_roots = sp.solve(lhs, yp)\n",
    "display(*[sp.Eq(symbols(\"y^{\\prime}\"), root) for root in yp_roots])"
   ]
  },
  {
   "cell_type": "code",
   "execution_count": 220,
   "metadata": {},
   "outputs": [
    {
     "data": {
      "text/latex": [
       "$\\displaystyle \\frac{\\lambda dy y}{\\pm \\sqrt{- \\lambda^{2} y^{2} + 1}} = dx$"
      ],
      "text/plain": [
       "Eq(\\lambda*dy*y/(\\pm*sqrt(-\\lambda**2*y**2 + 1)), dx)"
      ]
     },
     "execution_count": 220,
     "metadata": {},
     "output_type": "execute_result"
    }
   ],
   "source": [
    "pm = symbols(\"\\pm\")\n",
    "yp_ = yp_roots[1].simplify()*pm\n",
    "dx, dy = symbols(\"dx dy\")\n",
    "lhs = sp.solve((yp_ - yp).subs(yp, dy/dx), dx)[0]\n",
    "sp.Eq(lhs, dx)"
   ]
  },
  {
   "cell_type": "code",
   "execution_count": 221,
   "metadata": {},
   "outputs": [
    {
     "name": "stdout",
     "output_type": "stream",
     "text": [
      "substitute\n"
     ]
    },
    {
     "data": {
      "text/latex": [
       "$\\displaystyle u = - \\lambda^{2} y^{2} + 1$"
      ],
      "text/plain": [
       "Eq(u, -\\lambda**2*y**2 + 1)"
      ]
     },
     "metadata": {},
     "output_type": "display_data"
    },
    {
     "data": {
      "text/latex": [
       "$\\displaystyle du = - 2 \\lambda^{2} dy y$"
      ],
      "text/plain": [
       "Eq(du, -2*\\lambda**2*dy*y)"
      ]
     },
     "metadata": {},
     "output_type": "display_data"
    },
    {
     "data": {
      "text/latex": [
       "$\\displaystyle dy = - \\frac{du}{2 \\lambda^{2} y}$"
      ],
      "text/plain": [
       "Eq(dy, -du/(2*\\lambda**2*y))"
      ]
     },
     "metadata": {},
     "output_type": "display_data"
    }
   ],
   "source": [
    "u = 1 - (l*y)**2\n",
    "print(\"substitute\")\n",
    "display(sp.Eq(symbols(\"u\"), u))\n",
    "\n",
    "du = u.diff(y)\n",
    "eq=sp.Eq(symbols(\"du\"), du*dy)\n",
    "display(eq)\n",
    "dy_ = sp.solve(eq, dy)[0]\n",
    "display(sp.Eq(symbols(\"dy\"), dy_))"
   ]
  },
  {
   "cell_type": "code",
   "execution_count": 222,
   "metadata": {},
   "outputs": [
    {
     "name": "stdout",
     "output_type": "stream",
     "text": [
      "integrand:\n"
     ]
    },
    {
     "data": {
      "text/latex": [
       "$\\displaystyle \\frac{\\pm}{2 \\lambda \\sqrt{u}}$"
      ],
      "text/plain": [
       "\\pm/(2*\\lambda*sqrt(u))"
      ]
     },
     "metadata": {},
     "output_type": "display_data"
    },
    {
     "name": "stdout",
     "output_type": "stream",
     "text": [
      "after integration\n"
     ]
    },
    {
     "data": {
      "text/latex": [
       "$\\displaystyle \\frac{\\pm \\sqrt{u}}{\\lambda} = - A + x$"
      ],
      "text/plain": [
       "Eq(\\pm*sqrt(u)/\\lambda, -A + x)"
      ]
     },
     "metadata": {},
     "output_type": "display_data"
    },
    {
     "name": "stdout",
     "output_type": "stream",
     "text": [
      "finally, after substitution\n"
     ]
    },
    {
     "data": {
      "text/latex": [
       "$\\displaystyle \\frac{\\pm \\sqrt{- \\lambda^{2} y^{2} + 1}}{\\lambda} = - A + x$"
      ],
      "text/plain": [
       "Eq(\\pm*sqrt(-\\lambda**2*y**2 + 1)/\\lambda, -A + x)"
      ]
     },
     "metadata": {},
     "output_type": "display_data"
    }
   ],
   "source": [
    "u_ = symbols(\"u\")\n",
    "rhs = x-A\n",
    "integrand = pm*1/(2*l*sp.sqrt(u_))\n",
    "print(\"integrand:\")\n",
    "display(integrand)\n",
    "print(\"after integration\")\n",
    "lhs = sp.integrate(integrand, u_)\n",
    "eq = sp.Eq(lhs, rhs)\n",
    "display(eq)\n",
    "print(\"finally, after substitution\")\n",
    "eq = eq.subs(u_, u)\n",
    "display(eq)\n"
   ]
  },
  {
   "cell_type": "code",
   "execution_count": 223,
   "metadata": {},
   "outputs": [
    {
     "data": {
      "text/latex": [
       "$\\displaystyle \\frac{- \\lambda^{2} y^{2} + 1}{\\lambda^{2}} = \\left(- A + x\\right)^{2}$"
      ],
      "text/plain": [
       "Eq((-\\lambda**2*y^2 + 1)/\\lambda**2, (-A + x)**2)"
      ]
     },
     "metadata": {},
     "output_type": "display_data"
    }
   ],
   "source": [
    "y2 = symbols(\"y^2\", positive = True)\n",
    "lhs2 = (lhs.subs(u_, u)**2).subs(pm, 1).subs(y, sp.sqrt(y2))\n",
    "rhs2 = rhs**2\n",
    "eq = sp.Eq(lhs2, rhs2)\n",
    "display(eq)"
   ]
  },
  {
   "cell_type": "code",
   "execution_count": 224,
   "metadata": {},
   "outputs": [
    {
     "data": {
      "text/latex": [
       "$\\displaystyle y^{2} = - \\left(A - x\\right)^{2} + \\frac{1}{\\lambda^{2}}$"
      ],
      "text/plain": [
       "Eq(y^2, -(A - x)**2 + \\lambda**(-2))"
      ]
     },
     "metadata": {},
     "output_type": "display_data"
    }
   ],
   "source": [
    "y2_ = sp.solve(eq, y2)[0]\n",
    "eq_y2 = sp.Eq(y2, y2_)\n",
    "display(eq_y2)"
   ]
  },
  {
   "cell_type": "code",
   "execution_count": 225,
   "metadata": {},
   "outputs": [
    {
     "data": {
      "text/latex": [
       "$\\displaystyle s^{2} = - A^{2} + \\frac{1}{\\lambda^{2}}$"
      ],
      "text/plain": [
       "Eq(s**2, -A**2 + \\lambda**(-2))"
      ]
     },
     "metadata": {},
     "output_type": "display_data"
    },
    {
     "data": {
      "text/latex": [
       "$\\displaystyle 0 = - \\left(A - h\\right)^{2} + \\frac{1}{\\lambda^{2}}$"
      ],
      "text/plain": [
       "Eq(0, -(A - h)**2 + \\lambda**(-2))"
      ]
     },
     "metadata": {},
     "output_type": "display_data"
    }
   ],
   "source": [
    "h = symbols(\"h\", positive = True)\n",
    "eq_s = eq_y2.subs(x, 0).subs(y2, s**2)\n",
    "display(eq_s)\n",
    "\n",
    "eq_0 = eq_y2.subs(x, h).subs(y2, 0)\n",
    "display(eq_0)\n"
   ]
  },
  {
   "cell_type": "code",
   "execution_count": 226,
   "metadata": {},
   "outputs": [
    {
     "data": {
      "text/latex": [
       "$\\displaystyle 1/\\lambda^{2} = A^{2} + s^{2}$"
      ],
      "text/plain": [
       "Eq(1/\\lambda^2, A**2 + s**2)"
      ]
     },
     "metadata": {},
     "output_type": "display_data"
    },
    {
     "data": {
      "text/latex": [
       "$\\displaystyle A^{2} + s^{2} - \\left(A - h\\right)^{2} = 0$"
      ],
      "text/plain": [
       "Eq(A**2 + s**2 - (A - h)**2, 0)"
      ]
     },
     "metadata": {},
     "output_type": "display_data"
    },
    {
     "data": {
      "text/latex": [
       "$\\displaystyle A = \\frac{h^{2} - s^{2}}{2 h}$"
      ],
      "text/plain": [
       "Eq(A, (h**2 - s**2)/(2*h))"
      ]
     },
     "metadata": {},
     "output_type": "display_data"
    },
    {
     "data": {
      "text/latex": [
       "$\\displaystyle y^{2} = - \\left(- x + \\frac{h^{2} - s^{2}}{2 h}\\right)^{2} + \\frac{1}{\\lambda^{2}}$"
      ],
      "text/plain": [
       "Eq(y^2, -(-x + (h**2 - s**2)/(2*h))**2 + \\lambda**(-2))"
      ]
     },
     "metadata": {},
     "output_type": "display_data"
    },
    {
     "data": {
      "text/latex": [
       "$\\displaystyle s^{2} = 1/\\lambda^{2} - \\frac{\\left(h^{2} - s^{2}\\right)^{2}}{4 h^{2}}$"
      ],
      "text/plain": [
       "Eq(s**2, 1/\\lambda^2 - (h**2 - s**2)**2/(4*h**2))"
      ]
     },
     "metadata": {},
     "output_type": "display_data"
    },
    {
     "data": {
      "text/latex": [
       "$\\displaystyle 1/\\lambda^{2} = \\frac{h^{2}}{4} + \\frac{s^{2}}{2} + \\frac{s^{4}}{4 h^{2}}$"
      ],
      "text/plain": [
       "Eq(1/\\lambda^2, h**2/4 + s**2/2 + s**4/(4*h**2))"
      ]
     },
     "metadata": {},
     "output_type": "display_data"
    },
    {
     "data": {
      "text/latex": [
       "$\\displaystyle y^{2} = h x + s^{2} - x^{2} - \\frac{s^{2} x}{h}$"
      ],
      "text/plain": [
       "Eq(y^2, h*x + s**2 - x**2 - s**2*x/h)"
      ]
     },
     "execution_count": 226,
     "metadata": {},
     "output_type": "execute_result"
    }
   ],
   "source": [
    "l2_inv = symbols(\"1/\\lambda^2\")\n",
    "eq_s_ = eq_s.subs(l, sp.sqrt(1/(l2_inv)))\n",
    "l2_inv_ = sp.solve(eq_s_, l2_inv)[0]\n",
    "display(sp.Eq(l2_inv, l2_inv_))\n",
    "\n",
    "eq_0_ = eq_0.subs(l, sp.sqrt(1/(l2_inv))).subs(l2_inv, l2_inv_).simplify()\n",
    "display(eq_0_)\n",
    "\n",
    "A_ = sp.solve(eq_0_, A)[0]\n",
    "display(sp.Eq(A, A_))\n",
    "\n",
    "y2__ = y2_.subs(A, A_)\n",
    "eq_y2_s = sp.Eq(y2, y2__)\n",
    "display(eq_y2_s)\n",
    "\n",
    "eq_y2_s=eq_y2_s.subs(x, 0).subs(y2, s**2).subs(l, sp.sqrt(1/(l2_inv)))\n",
    "display(eq_y2_s)\n",
    "\n",
    "l2_inv_ = sp.solve(eq_y2_s, l2_inv)[0]\n",
    "display(sp.Eq(l2_inv, l2_inv_))\n",
    "\n",
    "y2__ = y2__.subs(l, sp.sqrt(1/(l2_inv))).subs(l2_inv, l2_inv_).subs(A, A_)\n",
    "sp.Eq(y2, y2__)\n",
    "\n",
    "y2__ = y2__.simplify()\n",
    "sp.Eq(y2, y2__)\n"
   ]
  },
  {
   "cell_type": "code",
   "execution_count": 227,
   "metadata": {},
   "outputs": [
    {
     "data": {
      "text/latex": [
       "$\\displaystyle y = \\sqrt{h x + s^{2} - x^{2} - \\frac{s^{2} x}{h}}$"
      ],
      "text/plain": [
       "Eq(y, sqrt(h*x + s**2 - x**2 - s**2*x/h))"
      ]
     },
     "metadata": {},
     "output_type": "display_data"
    }
   ],
   "source": [
    "y_ = sp.sqrt(y2__)\n",
    "display(sp.Eq(y, y_))"
   ]
  },
  {
   "cell_type": "code",
   "execution_count": 228,
   "metadata": {},
   "outputs": [
    {
     "data": {
      "image/png": "[encoded data removed]",
      "text/plain": [
       "<Figure size 640x480 with 1 Axes>"
      ]
     },
     "metadata": {},
     "output_type": "display_data"
    },
    {
     "data": {
      "text/plain": [
       "<sympy.plotting.plot.Plot at 0x7f1ca4fc0f70>"
      ]
     },
     "execution_count": 228,
     "metadata": {},
     "output_type": "execute_result"
    }
   ],
   "source": [
    "#sp.plot(y_.subs({s:1, h:1.1}), (x, 0 , 1.1))"
   ]
  },
  {
   "cell_type": "code",
   "execution_count": 255,
   "metadata": {},
   "outputs": [],
   "source": [
    "import numpy as np\n",
    "import functools\n",
    "\n",
    "@functools.lru_cache()\n",
    "def Y_h(s_, h_):\n",
    "    def func(x_):\n",
    "        if (x_<0) or (x_>h_):\n",
    "            return np.nan\n",
    "        else:\n",
    "            return sp.N(y_.subs({s:s_, h:h_, x: x_}))\n",
    "    return func\n",
    "\n",
    "def S_h(s_, h_):\n",
    "    dS = sp.sqrt(1+y_.diff(x)**2).simplify().radsimp()#dx\n",
    "    dS = dS.subs(s,s_).subs(h, h_)\n",
    "    #return complex(sp.N(sp.integrate(dS, (x, 0, h)))).real\n",
    "    return sp.N(sp.integrate(dS, (x, 0, h_-1e-5)))\n",
    "\n",
    "def V_h(s_, h_):\n",
    "    dV = y_.subs({s:s_, h:h_})\n",
    "    #return complex(sp.N(sp.integrate(dV, (x, 0, h_-1e-5)))).real\n",
    "    return sp.N(sp.integrate(dV, (x, 0, h_-1e-5)))\n",
    "\n",
    "# %%\n",
    "\n",
    "@functools.lru_cache()\n",
    "def h_V(s_, V_):\n",
    "    from scipy.optimize import brentq\n",
    "    def fsolve(h_):\n",
    "        return V_h(s_, h_)-V_\n",
    "    h_min = 0\n",
    "    h_max = 2*V_/s_ #triangle\n",
    "    return brentq(fsolve, h_min, h_max)\n",
    "\n",
    "\n",
    "@functools.lru_cache()\n",
    "def Y(s_, V_):\n",
    "    h_ = h_V(s_, V_)\n",
    "    print(f\"h = {h_}\")\n",
    "    return Y_h(s_, h_)\n",
    "\n",
    "\n",
    "@functools.lru_cache()\n",
    "def S(s_, V_):\n",
    "    h_ = h_V(s_, V_)\n",
    "    return S_h(s_, h_)"
   ]
  }
 ],
 "metadata": {
  "kernelspec": {
   "display_name": "venv",
   "language": "python",
   "name": "python3"
  },
  "language_info": {
   "codemirror_mode": {
    "name": "ipython",
    "version": 3
   },
   "file_extension": ".py",
   "mimetype": "text/x-python",
   "name": "python",
   "nbconvert_exporter": "python",
   "pygments_lexer": "ipython3",
   "version": "3.10.6"
  },
  "orig_nbformat": 4
 },
 "nbformat": 4,
 "nbformat_minor": 2
}
