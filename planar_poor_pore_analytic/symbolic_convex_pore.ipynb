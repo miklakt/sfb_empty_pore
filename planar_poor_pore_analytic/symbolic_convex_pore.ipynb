{
 "cells": [
  {
   "cell_type": "code",
   "execution_count": 22,
   "metadata": {},
   "outputs": [],
   "source": [
    "from IPython.display import Markdown as md\n",
    "from IPython.display import SVG\n",
    "import sympy as sp\n",
    "from sympy import symbols\n",
    "\n",
    "x = symbols(\"x\",positive = True)\n",
    "yp = symbols(\"y^{\\prime}\")\n",
    "ypp = symbols(\"y^{\\prime\\prime}\")\n",
    "y = symbols(\"y\", positive = True)\n",
    "A = symbols(\"A\", positive = True)\n",
    "C= symbols(\"C\")\n",
    "l = symbols(\"\\lambda\", negative = True)\n",
    "s = symbols(\"s\", positive = True)\n",
    "V = symbols(\"V\", positive = True)\n",
    "r = symbols(\"r\", positive = True)\n"
   ]
  },
  {
   "cell_type": "code",
   "execution_count": 23,
   "metadata": {},
   "outputs": [
    {
     "data": {
      "image/svg+xml": [
       "<svg xmlns:inkscape=\"http://www.inkscape.org/namespaces/inkscape\" xmlns:sodipodi=\"http://sodipodi.sourceforge.net/DTD/sodipodi-0.dtd\" xmlns:xlink=\"http://www.w3.org/1999/xlink\" xmlns=\"http://www.w3.org/2000/svg\" xmlns:svg=\"http://www.w3.org/2000/svg\" width=\"90.310623mm\" height=\"107.19402mm\" viewBox=\"0 0 90.310623 107.19403\" version=\"1.1\" id=\"svg5\" inkscape:version=\"1.1.2 (0a00cf5339, 2022-02-04)\" sodipodi:docname=\"drawing.svg\">\n",
       "  <sodipodi:namedview id=\"namedview7\" pagecolor=\"#ffffff\" bordercolor=\"#666666\" borderopacity=\"1.0\" inkscape:pageshadow=\"2\" inkscape:pageopacity=\"0.0\" inkscape:pagecheckerboard=\"0\" inkscape:document-units=\"mm\" showgrid=\"false\" fit-margin-top=\"0\" fit-margin-left=\"0\" fit-margin-right=\"0\" fit-margin-bottom=\"0\" showguides=\"true\" inkscape:guide-bbox=\"true\" inkscape:zoom=\"1.381635\" inkscape:cx=\"96.624649\" inkscape:cy=\"203.02033\" inkscape:window-width=\"2560\" inkscape:window-height=\"1376\" inkscape:window-x=\"0\" inkscape:window-y=\"27\" inkscape:window-maximized=\"1\" inkscape:current-layer=\"layer1\"/>\n",
       "  <defs id=\"defs2\">\n",
       "    <linearGradient inkscape:collect=\"always\" id=\"linearGradient33216\">\n",
       "      <stop style=\"stop-color:#000000;stop-opacity:0\" offset=\"0\" id=\"stop33212\"/>\n",
       "      <stop style=\"stop-color:#bcbcbc;stop-opacity:1\" offset=\"1\" id=\"stop33214\"/>\n",
       "    </linearGradient>\n",
       "    <marker style=\"overflow:visible\" id=\"Arrow1Lend\" refX=\"0\" refY=\"0\" orient=\"auto\" inkscape:stockid=\"Arrow1Lend\" inkscape:isstock=\"true\">\n",
       "      <path transform=\"matrix(-0.8,0,0,-0.8,-10,0)\" style=\"fill:context-stroke;fill-rule:evenodd;stroke:context-stroke;stroke-width:1pt\" d=\"M 0,0 5,-5 -12.5,0 5,5 Z\" id=\"path944\"/>\n",
       "    </marker>\n",
       "    <marker style=\"overflow:visible\" id=\"Arrow1Lend-1\" refX=\"0\" refY=\"0\" orient=\"auto\" inkscape:stockid=\"Arrow1Lend\" inkscape:isstock=\"true\">\n",
       "      <path transform=\"matrix(-0.8,0,0,-0.8,-10,0)\" style=\"fill:context-stroke;fill-rule:evenodd;stroke:context-stroke;stroke-width:1pt\" d=\"M 0,0 5,-5 -12.5,0 5,5 Z\" id=\"path944-2\"/>\n",
       "    </marker>\n",
       "    <marker style=\"overflow:visible\" id=\"marker21185\" refX=\"0\" refY=\"0\" orient=\"auto\" inkscape:stockid=\"Arrow1Lend\" inkscape:isstock=\"true\">\n",
       "      <path transform=\"matrix(-0.8,0,0,-0.8,-10,0)\" style=\"fill:context-stroke;fill-rule:evenodd;stroke:context-stroke;stroke-width:1pt\" d=\"M 0,0 5,-5 -12.5,0 5,5 Z\" id=\"path21183\"/>\n",
       "    </marker>\n",
       "    <linearGradient inkscape:collect=\"always\" xlink:href=\"#linearGradient33216\" id=\"linearGradient33218\" x1=\"-8.552227\" y1=\"75.97438\" x2=\"-2.5281176\" y2=\"75.97438\" gradientUnits=\"userSpaceOnUse\"/>\n",
       "  </defs>\n",
       "  <g inkscape:label=\"Layer 1\" inkscape:groupmode=\"layer\" id=\"layer1\" transform=\"translate(11.318136,-20.502005)\">\n",
       "    <rect style=\"fill:url(#linearGradient33218);fill-opacity:1;stroke:none;stroke-width:0.165;stroke-linecap:butt;stroke-linejoin:round;stroke-miterlimit:4;stroke-dasharray:none;stroke-dashoffset:0;stroke-opacity:1;paint-order:markers fill stroke\" id=\"rect33108\" width=\"5.6416349\" height=\"77.472252\" x=\"-8.2522526\" y=\"37.238255\"/>\n",
       "    <path style=\"fill:none;stroke:#000000;stroke-width:0.22255px;stroke-linecap:butt;stroke-linejoin:miter;stroke-opacity:1;marker-end:url(#Arrow1Lend)\" d=\"M -2.6034318,127.69603 V 23.564524\" id=\"path857\"/>\n",
       "    <path style=\"fill:none;stroke:#000000;stroke-width:0.264583px;stroke-linecap:butt;stroke-linejoin:miter;stroke-opacity:1;marker-end:url(#Arrow1Lend)\" d=\"M -2.5448338,75.705395 H 78.478838\" id=\"path859\"/>\n",
       "    <text xml:space=\"preserve\" style=\"font-size:6.35px;line-height:1.25;font-family:'Asana Math';-inkscape-font-specification:'Asana Math, Normal';stroke-width:0.264583\" x=\"75.152046\" y=\"72.555542\" id=\"text2025\"><tspan sodipodi:role=\"line\" id=\"tspan2023\" style=\"font-size:6.35px;stroke-width:0.264583\" x=\"75.152046\" y=\"72.555542\">x</tspan></text>\n",
       "    <text xml:space=\"preserve\" style=\"font-size:6.35px;line-height:1.25;font-family:'Asana Math';-inkscape-font-specification:'Asana Math, Normal';stroke-width:0.264583\" x=\"-7.9839921\" y=\"23.416655\" id=\"text2025-3\"><tspan sodipodi:role=\"line\" id=\"tspan2023-6\" style=\"font-size:6.35px;stroke-width:0.264583\" x=\"-7.9839921\" y=\"23.416655\">y</tspan></text>\n",
       "    <path style=\"fill:none;stroke:#0016ff;stroke-width:0.565;stroke-linecap:butt;stroke-linejoin:round;stroke-miterlimit:4;stroke-dasharray:none;stroke-opacity:1;paint-order:markers fill stroke\" d=\"m -2.6598168,114.58378 c 0,0 18.5834798,11.72592 30.8926498,-0.21406 11.71147,-11.3602 11.674539,-31.019895 11.67454,-38.499425 10e-7,-7.47953 0.03694,-27.139223 -11.674532,-38.499421 C 15.923669,25.430897 -2.6598128,37.156811 -2.6598128,37.156811\" id=\"path5425-7\" sodipodi:nodetypes=\"cszsc\"/>\n",
       "    <path style=\"fill:none;stroke:#088d00;stroke-width:0.665;stroke-linecap:butt;stroke-linejoin:miter;stroke-miterlimit:4;stroke-dasharray:none;stroke-opacity:1\" d=\"M -2.6598138,37.15681 C 13.651549,53.184491 32.251398,59.614571 68.901936,62.289775\" id=\"path8305\" sodipodi:nodetypes=\"cc\"/>\n",
       "    <path style=\"fill:none;stroke:#088d00;stroke-width:0.465;stroke-linecap:butt;stroke-linejoin:miter;stroke-miterlimit:4;stroke-dasharray:none;stroke-opacity:0.988235\" d=\"m 68.901936,62.289775 -2e-6,27.16104\" id=\"path14044\"/>\n",
       "    <path style=\"fill:none;stroke:#088d00;stroke-width:0.665;stroke-linecap:butt;stroke-linejoin:miter;stroke-miterlimit:4;stroke-dasharray:none;stroke-opacity:1\" d=\"M -2.659816,114.58378 C 13.651547,98.556095 32.251396,92.126015 68.901934,89.450815\" id=\"path8305-6\" sodipodi:nodetypes=\"cc\"/>\n",
       "    <path style=\"fill:none;stroke:#0016ff;stroke-width:0.25347;stroke-linecap:butt;stroke-linejoin:miter;stroke-miterlimit:4;stroke-dasharray:none;stroke-dashoffset:0;stroke-opacity:0.894118\" d=\"M 24.669506,31.822765 H 4.2506387\" id=\"path18772\" sodipodi:nodetypes=\"cc\"/>\n",
       "    <path style=\"fill:none;stroke:#0016ff;stroke-width:0.35974;stroke-linecap:butt;stroke-linejoin:miter;stroke-miterlimit:4;stroke-dasharray:none;stroke-dashoffset:0;stroke-opacity:0.894118\" d=\"M 39.963935,96.027766 V 54.897974\" id=\"path18772-2\" sodipodi:nodetypes=\"cc\"/>\n",
       "    <path style=\"fill:none;stroke:#0016ff;stroke-width:0.25347;stroke-linecap:butt;stroke-linejoin:miter;stroke-miterlimit:4;stroke-dasharray:none;stroke-dashoffset:0;stroke-opacity:0.894118\" d=\"M 9.1590326,30.900387 -11.259835,41.479434\" id=\"path18772-9\" sodipodi:nodetypes=\"cc\"/>\n",
       "    <path style=\"fill:none;stroke:#9aa3ff;stroke-width:0.420609;stroke-linecap:butt;stroke-linejoin:round;stroke-miterlimit:4;stroke-dasharray:none;stroke-opacity:1;paint-order:markers fill stroke\" d=\"m -2.6106181,114.5395 c 14.3152741,-24.941704 14.3067001,-51.994503 0,-77.301247\" id=\"path5425-7-6-2\" sodipodi:nodetypes=\"cc\"/>\n",
       "    <text xml:space=\"preserve\" style=\"font-size:5.25227px;line-height:1.25;font-family:'Asana Math';-inkscape-font-specification:'Asana Math, Normal';stroke-width:0.218844\" x=\"-11.639192\" y=\"117.48914\" id=\"text2025-0\" transform=\"scale(0.97286844,1.0278882)\"><tspan sodipodi:role=\"line\" id=\"tspan2023-2\" style=\"font-size:5.25227px;stroke-width:0.218844\" x=\"-11.639192\" y=\"117.48914\">S/2</tspan></text>\n",
       "    <text xml:space=\"preserve\" style=\"font-size:6.35px;line-height:1.25;font-family:'Asana Math';-inkscape-font-specification:'Asana Math, Normal';stroke-width:0.264583\" x=\"68.059608\" y=\"95.609749\" id=\"text2025-0-3\"><tspan sodipodi:role=\"line\" id=\"tspan2023-2-7\" style=\"font-size:6.35px;stroke-width:0.264583\" x=\"68.059608\" y=\"95.609749\">r</tspan></text>\n",
       "    <text xml:space=\"preserve\" style=\"font-size:6.35px;line-height:1.25;font-family:'Asana Math';-inkscape-font-specification:'Asana Math, Normal';stroke-width:0.264583\" x=\"41.359112\" y=\"81.929932\" id=\"text2025-0-3-5\"><tspan sodipodi:role=\"line\" id=\"tspan2023-2-7-9\" style=\"font-size:6.35px;stroke-width:0.264583\" x=\"41.359112\" y=\"81.929932\">h</tspan></text>\n",
       "    <text xml:space=\"preserve\" style=\"font-size:6.35px;line-height:1.25;font-family:'Asana Math';-inkscape-font-specification:'Asana Math, Normal';stroke-width:0.264583\" x=\"13.27241\" y=\"26.25688\" id=\"text2025-0-3-5-2\"><tspan sodipodi:role=\"line\" id=\"tspan2023-2-7-9-2\" style=\"font-size:6.35px;stroke-width:0.264583\" x=\"13.27241\" y=\"26.25688\">a</tspan></text>\n",
       "    <path style=\"fill:none;stroke:#0016ff;stroke-width:0.146505;stroke-linecap:butt;stroke-linejoin:miter;stroke-miterlimit:4;stroke-dasharray:none;stroke-dashoffset:0;stroke-opacity:0.894118\" d=\"M 14.867528,35.033532 V 28.21202\" id=\"path18772-8\" sodipodi:nodetypes=\"cc\"/>\n",
       "  </g>\n",
       "</svg>"
      ],
      "text/plain": [
       "<IPython.core.display.SVG object>"
      ]
     },
     "execution_count": 23,
     "metadata": {},
     "output_type": "execute_result"
    }
   ],
   "source": [
    "SVG(filename =\"drawing.svg\")"
   ]
  },
  {
   "attachments": {},
   "cell_type": "markdown",
   "metadata": {},
   "source": [
    "Minimize surface\n",
    "$$\n",
    "dS = 2 \\pi\\sqrt{1+(y^{\\prime})^2} (r-x) dx\n",
    "$$\n",
    "with constant volume\n",
    "$$\n",
    "dV = 2 \\pi y (r-x) dx\n",
    "$$\n",
    "Functional to minimize\n",
    "$$\n",
    "F = S + \\lambda V\n",
    "$$\n",
    "\n",
    "other constrains:\n",
    "$$\n",
    "y(0) = s/2\n",
    "\\\\\n",
    "\\lim_{x \\to h} y(x) = 0\n",
    "\\\\\n",
    "\\lim_{x \\to h} y^{\\prime}(x) = -\\infty\n",
    "\\\\\n",
    "y^{\\prime\\prime}(x) < 0\n",
    "$$\n",
    "\n",
    "$$\n",
    "F(y^{\\prime}, y) = 2 \\pi (\\sqrt{1+(y^{\\prime})^2} (r-x) + \\lambda 2 y (r-x))\n",
    "$$\n",
    "\n",
    "Euler-Lagrange\n",
    "$$\n",
    "\\frac{\\partial F}{\\partial y} - \\frac{d}{dx} \\frac{\\partial F}{\\partial y^{\\prime}} = 0\n",
    "$$"
   ]
  },
  {
   "cell_type": "code",
   "execution_count": 24,
   "metadata": {},
   "outputs": [
    {
     "data": {
      "text/latex": [
       "$\\displaystyle 2 \\pi \\lambda y \\left(r - x\\right) + 2 \\pi \\left(r - x\\right) \\sqrt{\\left(y^{\\prime}\\right)^{2} + 1} = 0$"
      ],
      "text/plain": [
       "Eq(2*pi*\\lambda*y*(r - x) + 2*pi*(r - x)*sqrt(y^{\\prime}**2 + 1), 0)"
      ]
     },
     "metadata": {},
     "output_type": "display_data"
    },
    {
     "data": {
      "text/markdown": [
       "$$\\frac{\\partial F}{\\partial y}=2 \\pi \\lambda \\left(r - x\\right)$$"
      ],
      "text/plain": [
       "<IPython.core.display.Markdown object>"
      ]
     },
     "execution_count": 24,
     "metadata": {},
     "output_type": "execute_result"
    }
   ],
   "source": [
    "F = sp.sqrt(1+yp**2)*2*sp.pi*(r-x) + l*y*2*sp.pi*(r-x)\n",
    "display(sp.Eq(F, 0))\n",
    "dFdy = F.diff(y)\n",
    "md(r\"$$\\frac{\\partial F}{\\partial y}=\"+f\"{sp.latex(dFdy)}$$\")"
   ]
  },
  {
   "cell_type": "code",
   "execution_count": 25,
   "metadata": {},
   "outputs": [
    {
     "name": "stdout",
     "output_type": "stream",
     "text": [
      "second\n"
     ]
    },
    {
     "data": {
      "text/markdown": [
       "$$\\frac{d}{dx} \\frac{\\partial F}{\\partial y^{\\prime}}=- \\frac{2 \\pi y^{\\prime\\prime} \\left(y^{\\prime}\\right)^{2} \\left(r - x\\right)}{\\left(\\left(y^{\\prime}\\right)^{2} + 1\\right)^{\\frac{3}{2}}} + \\frac{2 \\pi y^{\\prime\\prime} \\left(r - x\\right)}{\\sqrt{\\left(y^{\\prime}\\right)^{2} + 1}} - \\frac{2 \\pi y^{\\prime}}{\\sqrt{\\left(y^{\\prime}\\right)^{2} + 1}}$$"
      ],
      "text/plain": [
       "<IPython.core.display.Markdown object>"
      ]
     },
     "execution_count": 25,
     "metadata": {},
     "output_type": "execute_result"
    }
   ],
   "source": [
    "ypf = sp.Function(\"y^{\\prime}\")(x)\n",
    "dFdyp = F.diff(yp).subs(yp, ypf).diff(x).subs(ypf.diff(x), ypp)\n",
    "dFdyp = dFdyp.subs(ypf, yp)\n",
    "print(\"second\")\n",
    "md(r\"$$\\frac{d}{dx} \\frac{\\partial F}{\\partial y^{\\prime}}=\" + f\"{sp.latex(dFdyp)}$$\")"
   ]
  },
  {
   "cell_type": "code",
   "execution_count": 26,
   "metadata": {},
   "outputs": [
    {
     "data": {
      "text/latex": [
       "$\\displaystyle \\lambda \\left(r - x\\right) = \\frac{r y^{\\prime\\prime} - x y^{\\prime\\prime} - \\left(y^{\\prime}\\right)^{3} - y^{\\prime}}{\\left(\\left(y^{\\prime}\\right)^{2} + 1\\right)^{\\frac{3}{2}}}$"
      ],
      "text/plain": [
       "Eq(\\lambda*(r - x), (r*y^{\\prime\\prime} - x*y^{\\prime\\prime} - y^{\\prime}**3 - y^{\\prime})/(y^{\\prime}**2 + 1)**(3/2))"
      ]
     },
     "metadata": {},
     "output_type": "display_data"
    }
   ],
   "source": [
    "eq = sp.Eq(dFdy/2/sp.pi, dFdyp/2/sp.pi).simplify()\n",
    "display(eq)"
   ]
  },
  {
   "cell_type": "code",
   "execution_count": 27,
   "metadata": {},
   "outputs": [
    {
     "data": {
      "text/latex": [
       "$\\displaystyle \\frac{y^{\\prime\\prime} - \\left(y^{\\prime}\\right)^{3} - y^{\\prime}}{\\left(\\left(y^{\\prime}\\right)^{2} + 1\\right)^{\\frac{3}{2}}} = \\lambda$"
      ],
      "text/plain": [
       "Eq((y^{\\prime\\prime} - y^{\\prime}**3 - y^{\\prime})/(y^{\\prime}**2 + 1)**(3/2), \\lambda)"
      ]
     },
     "metadata": {},
     "output_type": "display_data"
    }
   ],
   "source": [
    "lhs = (eq.args[0]).subs(r-x, 1)\n",
    "rhs = (eq.args[1]).collect(ypp).subs(r-x, 1)\n",
    "eq = sp.Eq(rhs**1, lhs**1)\n",
    "display(eq)"
   ]
  },
  {
   "cell_type": "code",
   "execution_count": 28,
   "metadata": {},
   "outputs": [
    {
     "data": {
      "text/latex": [
       "$\\displaystyle y^{\\prime\\prime} = \\lambda \\left(\\left(y^{\\prime}\\right)^{2} + 1\\right)^{\\frac{3}{2}} + \\left(y^{\\prime}\\right)^{3} + y^{\\prime}$"
      ],
      "text/plain": [
       "Eq(y^{\\prime\\prime}, \\lambda*(y^{\\prime}**2 + 1)**(3/2) + y^{\\prime}**3 + y^{\\prime})"
      ]
     },
     "metadata": {},
     "output_type": "display_data"
    }
   ],
   "source": [
    "ypp_roots = sp.solve(eq, ypp)\n",
    "display(*[sp.Eq(ypp, root) for root in ypp_roots])"
   ]
  },
  {
   "cell_type": "code",
   "execution_count": 9,
   "metadata": {},
   "outputs": [],
   "source": [
    "ypp_ = ypp_roots[1]"
   ]
  },
  {
   "cell_type": "code",
   "execution_count": 10,
   "metadata": {},
   "outputs": [],
   "source": [
    "ypp_ = ypp_roots[1]\n",
    "dx, dy = symbols(\"dx d(y')\")\n",
    "lhs = sp.solve((ypp_ - ypp).subs(ypp, dy/dx), dx)[0]"
   ]
  },
  {
   "cell_type": "code",
   "execution_count": 11,
   "metadata": {},
   "outputs": [
    {
     "data": {
      "text/latex": [
       "$\\displaystyle \\frac{d(y')}{\\lambda \\sqrt{\\left(\\left(y^{\\prime}\\right)^{2} + 1\\right)^{3}} + \\left(y^{\\prime}\\right)^{3} + y^{\\prime}}$"
      ],
      "text/plain": [
       "d(y')/(\\lambda*sqrt((y^{\\prime}**2 + 1)**3) + y^{\\prime}**3 + y^{\\prime})"
      ]
     },
     "execution_count": 11,
     "metadata": {},
     "output_type": "execute_result"
    }
   ],
   "source": [
    "lhs"
   ]
  },
  {
   "cell_type": "code",
   "execution_count": 12,
   "metadata": {},
   "outputs": [
    {
     "data": {
      "text/latex": [
       "$\\displaystyle \\lambda \\sqrt{\\left(\\left(y^{\\prime}\\right)^{2} + 1\\right)^{3}} + \\left(y^{\\prime}\\right)^{3} + y^{\\prime}$"
      ],
      "text/plain": [
       "\\lambda*sqrt((y^{\\prime}**2 + 1)**3) + y^{\\prime}**3 + y^{\\prime}"
      ]
     },
     "execution_count": 12,
     "metadata": {},
     "output_type": "execute_result"
    }
   ],
   "source": [
    "ypp_"
   ]
  },
  {
   "cell_type": "code",
   "execution_count": null,
   "metadata": {},
   "outputs": [],
   "source": []
  }
 ],
 "metadata": {
  "kernelspec": {
   "display_name": "venv",
   "language": "python",
   "name": "python3"
  },
  "language_info": {
   "codemirror_mode": {
    "name": "ipython",
    "version": 3
   },
   "file_extension": ".py",
   "mimetype": "text/x-python",
   "name": "python",
   "nbconvert_exporter": "python",
   "pygments_lexer": "ipython3",
   "version": "3.10.6"
  },
  "orig_nbformat": 4
 },
 "nbformat": 4,
 "nbformat_minor": 2
}
