{
 "cells": [
  {
   "cell_type": "code",
   "execution_count": 77,
   "metadata": {},
   "outputs": [],
   "source": [
    "from IPython.display import Markdown as md\n",
    "from IPython.display import SVG\n",
    "import sympy as sp\n",
    "from sympy import symbols\n",
    "\n",
    "\"\"\"\n",
    "x = symbols(\"x\", positive = True)\n",
    "ypp = symbols(\"y^{\\prime\\prime}\", negative = True)\n",
    "yp = symbols(\"y^{\\prime}\", negative = True)\n",
    "y = symbols(\"y\", positive = True)\n",
    "A = symbols(\"A\", positive =True)\n",
    "C= symbols(\"C\")\n",
    "l = symbols(\"\\lambda\", positive = True)\n",
    "s = symbols(\"s\", positive = True)\n",
    "V = symbols(\"V\")\n",
    "r = symbols(\"r\")\n",
    "\"\"\"\n",
    "x = symbols(\"x\")\n",
    "\n",
    "ypp = symbols(\"y^{\\prime\\prime}\")\n",
    "yp = symbols(\"y^{\\prime}\")\n",
    "y = symbols(\"y\")\n",
    "\n",
    "yppr = symbols(\"y^{\\prime\\prime}_r\", positive = True)\n",
    "ypr = symbols(\"y^{\\prime}_r\", negative = True)\n",
    "yr = symbols(\"y_r\", positive = True)\n",
    "\n",
    "A = symbols(\"A\")\n",
    "C= symbols(\"C\")\n",
    "l = symbols(\"\\lambda\")\n",
    "s = symbols(\"s\")\n",
    "V = symbols(\"V\")\n",
    "r = symbols(\"r\")"
   ]
  },
  {
   "cell_type": "code",
   "execution_count": 78,
   "metadata": {},
   "outputs": [
    {
     "data": {
      "image/svg+xml": [
       "<svg xmlns:inkscape=\"http://www.inkscape.org/namespaces/inkscape\" xmlns:sodipodi=\"http://sodipodi.sourceforge.net/DTD/sodipodi-0.dtd\" xmlns:xlink=\"http://www.w3.org/1999/xlink\" xmlns=\"http://www.w3.org/2000/svg\" xmlns:svg=\"http://www.w3.org/2000/svg\" width=\"90.310623mm\" height=\"107.19402mm\" viewBox=\"0 0 90.310623 107.19403\" version=\"1.1\" id=\"svg5\" inkscape:version=\"1.1.2 (0a00cf5339, 2022-02-04)\" sodipodi:docname=\"drawing.svg\">\n",
       "  <sodipodi:namedview id=\"namedview7\" pagecolor=\"#ffffff\" bordercolor=\"#666666\" borderopacity=\"1.0\" inkscape:pageshadow=\"2\" inkscape:pageopacity=\"0.0\" inkscape:pagecheckerboard=\"0\" inkscape:document-units=\"mm\" showgrid=\"false\" fit-margin-top=\"0\" fit-margin-left=\"0\" fit-margin-right=\"0\" fit-margin-bottom=\"0\" showguides=\"true\" inkscape:guide-bbox=\"true\" inkscape:zoom=\"2.0691009\" inkscape:cx=\"139.91584\" inkscape:cy=\"234.15967\" inkscape:window-width=\"2560\" inkscape:window-height=\"1376\" inkscape:window-x=\"0\" inkscape:window-y=\"27\" inkscape:window-maximized=\"1\" inkscape:current-layer=\"layer1\"/>\n",
       "  <defs id=\"defs2\">\n",
       "    <linearGradient inkscape:collect=\"always\" id=\"linearGradient33216\">\n",
       "      <stop style=\"stop-color:#000000;stop-opacity:0\" offset=\"0\" id=\"stop33212\"/>\n",
       "      <stop style=\"stop-color:#bcbcbc;stop-opacity:1\" offset=\"1\" id=\"stop33214\"/>\n",
       "    </linearGradient>\n",
       "    <marker style=\"overflow:visible\" id=\"Arrow1Lend\" refX=\"0\" refY=\"0\" orient=\"auto\" inkscape:stockid=\"Arrow1Lend\" inkscape:isstock=\"true\">\n",
       "      <path transform=\"matrix(-0.8,0,0,-0.8,-10,0)\" style=\"fill:context-stroke;fill-rule:evenodd;stroke:context-stroke;stroke-width:1pt\" d=\"M 0,0 5,-5 -12.5,0 5,5 Z\" id=\"path944\"/>\n",
       "    </marker>\n",
       "    <marker style=\"overflow:visible\" id=\"Arrow1Lend-1\" refX=\"0\" refY=\"0\" orient=\"auto\" inkscape:stockid=\"Arrow1Lend\" inkscape:isstock=\"true\">\n",
       "      <path transform=\"matrix(-0.8,0,0,-0.8,-10,0)\" style=\"fill:context-stroke;fill-rule:evenodd;stroke:context-stroke;stroke-width:1pt\" d=\"M 0,0 5,-5 -12.5,0 5,5 Z\" id=\"path944-2\"/>\n",
       "    </marker>\n",
       "    <marker style=\"overflow:visible\" id=\"marker21185\" refX=\"0\" refY=\"0\" orient=\"auto\" inkscape:stockid=\"Arrow1Lend\" inkscape:isstock=\"true\">\n",
       "      <path transform=\"matrix(-0.8,0,0,-0.8,-10,0)\" style=\"fill:context-stroke;fill-rule:evenodd;stroke:context-stroke;stroke-width:1pt\" d=\"M 0,0 5,-5 -12.5,0 5,5 Z\" id=\"path21183\"/>\n",
       "    </marker>\n",
       "    <linearGradient inkscape:collect=\"always\" xlink:href=\"#linearGradient33216\" id=\"linearGradient33218\" x1=\"-8.552227\" y1=\"75.97438\" x2=\"-2.5281176\" y2=\"75.97438\" gradientUnits=\"userSpaceOnUse\"/>\n",
       "  </defs>\n",
       "  <g inkscape:label=\"Layer 1\" inkscape:groupmode=\"layer\" id=\"layer1\" transform=\"translate(11.318136,-20.502005)\">\n",
       "    <rect style=\"fill:url(#linearGradient33218);fill-opacity:1;stroke:none;stroke-width:0.165;stroke-linecap:butt;stroke-linejoin:round;stroke-miterlimit:4;stroke-dasharray:none;stroke-dashoffset:0;stroke-opacity:1;paint-order:markers fill stroke\" id=\"rect33108\" width=\"5.6416349\" height=\"77.472252\" x=\"-8.2522526\" y=\"37.238255\"/>\n",
       "    <path style=\"fill:none;stroke:#000000;stroke-width:0.22255px;stroke-linecap:butt;stroke-linejoin:miter;stroke-opacity:1;marker-end:url(#Arrow1Lend)\" d=\"M -2.6034318,127.69603 V 23.564524\" id=\"path857\"/>\n",
       "    <path style=\"fill:none;stroke:#000000;stroke-width:0.264583px;stroke-linecap:butt;stroke-linejoin:miter;stroke-opacity:1;marker-end:url(#Arrow1Lend)\" d=\"M -2.5448338,75.705395 H 78.478838\" id=\"path859\"/>\n",
       "    <text xml:space=\"preserve\" style=\"font-size:6.35px;line-height:1.25;font-family:'Asana Math';-inkscape-font-specification:'Asana Math, Normal';stroke-width:0.264583\" x=\"75.152046\" y=\"72.555542\" id=\"text2025\"><tspan sodipodi:role=\"line\" id=\"tspan2023\" style=\"font-size:6.35px;stroke-width:0.264583\" x=\"75.152046\" y=\"72.555542\">x</tspan></text>\n",
       "    <text xml:space=\"preserve\" style=\"font-size:6.35px;line-height:1.25;font-family:'Asana Math';-inkscape-font-specification:'Asana Math, Normal';stroke-width:0.264583\" x=\"-7.9839921\" y=\"23.416655\" id=\"text2025-3\"><tspan sodipodi:role=\"line\" id=\"tspan2023-6\" style=\"font-size:6.35px;stroke-width:0.264583\" x=\"-7.9839921\" y=\"23.416655\">y</tspan></text>\n",
       "    <path style=\"fill:none;stroke:#0016ff;stroke-width:0.60792;stroke-linecap:butt;stroke-linejoin:round;stroke-miterlimit:4;stroke-dasharray:none;stroke-opacity:1;paint-order:markers fill stroke\" d=\"m -2.6562217,114.56728 c 0,0 21.5232887,11.72092 35.7797047,-0.21397 13.564163,-11.35536 13.52139,-31.006673 13.521391,-38.483015 10e-7,-7.476342 0.04278,-27.127655 -13.521381,-38.483011 -14.256419,-11.934888 -35.77971,-0.213972 -35.77971,-0.213972\" id=\"path5425-7\" sodipodi:nodetypes=\"cszsc\"/>\n",
       "    <path style=\"fill:none;stroke:#088d00;stroke-width:0.665;stroke-linecap:butt;stroke-linejoin:miter;stroke-miterlimit:4;stroke-dasharray:none;stroke-opacity:1\" d=\"M -2.6598138,37.15681 C 13.651549,53.184491 32.251398,59.614571 68.901936,62.289775\" id=\"path8305\" sodipodi:nodetypes=\"cc\"/>\n",
       "    <path style=\"fill:none;stroke:#088d00;stroke-width:0.465;stroke-linecap:butt;stroke-linejoin:miter;stroke-miterlimit:4;stroke-dasharray:none;stroke-opacity:0.988235\" d=\"m 68.901936,62.289775 -2e-6,27.16104\" id=\"path14044\"/>\n",
       "    <path style=\"fill:none;stroke:#088d00;stroke-width:0.665;stroke-linecap:butt;stroke-linejoin:miter;stroke-miterlimit:4;stroke-dasharray:none;stroke-opacity:1\" d=\"M -2.659816,114.58378 C 13.651547,98.556095 32.251396,92.126015 68.901934,89.450815\" id=\"path8305-6\" sodipodi:nodetypes=\"cc\"/>\n",
       "    <path style=\"fill:none;stroke:#9aa3ff;stroke-width:0.420609;stroke-linecap:butt;stroke-linejoin:round;stroke-miterlimit:4;stroke-dasharray:none;stroke-opacity:1;paint-order:markers fill stroke\" d=\"m -2.6106181,114.5395 c 14.3152741,-24.941704 14.3067001,-51.994503 0,-77.301247\" id=\"path5425-7-6-2\" sodipodi:nodetypes=\"cc\"/>\n",
       "    <text xml:space=\"preserve\" style=\"font-size:5.25227px;line-height:1.25;font-family:'Asana Math';-inkscape-font-specification:'Asana Math, Normal';stroke-width:0.218844\" x=\"-6.6964316\" y=\"116.26355\" id=\"text2025-0\" transform=\"scale(0.97286845,1.0278882)\"><tspan sodipodi:role=\"line\" id=\"tspan2023-2\" style=\"font-size:5.25227px;stroke-width:0.218844\" x=\"-6.6964316\" y=\"116.26355\">S</tspan></text>\n",
       "    <text xml:space=\"preserve\" style=\"font-size:6.35px;line-height:1.25;font-family:'Asana Math';-inkscape-font-specification:'Asana Math, Normal';stroke-width:0.264583\" x=\"69.900566\" y=\"72.690636\" id=\"text2025-0-3\"><tspan sodipodi:role=\"line\" id=\"tspan2023-2-7\" style=\"font-size:6.35px;stroke-width:0.264583\" x=\"69.900566\" y=\"72.690636\">r</tspan></text>\n",
       "    <text xml:space=\"preserve\" style=\"font-size:6.35px;line-height:1.25;font-family:'Asana Math';-inkscape-font-specification:'Asana Math, Normal';stroke-width:0.264583\" x=\"41.065636\" y=\"74.722382\" id=\"text2025-0-3-5\"><tspan sodipodi:role=\"line\" id=\"tspan2023-2-7-9\" style=\"font-size:6.35px;stroke-width:0.264583\" x=\"41.065636\" y=\"74.722382\">h</tspan></text>\n",
       "    <path style=\"fill:none;fill-opacity:1;stroke:#ffabab;stroke-width:0.265;stroke-linecap:butt;stroke-linejoin:miter;stroke-miterlimit:4;stroke-dasharray:0.53, 0.265;stroke-dashoffset:0;stroke-opacity:1\" d=\"m -2.659814,37.15681 c 0,0 23.316997,3.371056 43.171027,14.796091 19.85403,11.425034 28.28266,23.77875 28.28266,23.77875\" id=\"path941\" sodipodi:nodetypes=\"czc\"/>\n",
       "    <path style=\"fill:none;fill-opacity:1;stroke:#ffabab;stroke-width:0.265;stroke-linecap:butt;stroke-linejoin:miter;stroke-miterlimit:4;stroke-dasharray:0.53, 0.265;stroke-dashoffset:0;stroke-opacity:1\" d=\"m -2.6598138,114.30649 c 0,0 23.3169968,-3.37105 43.1710268,-14.796089 19.85403,-11.425034 28.28266,-23.77875 28.28266,-23.77875\" id=\"path941-3\" sodipodi:nodetypes=\"czc\"/>\n",
       "    <text xml:space=\"preserve\" style=\"font-size:3.52777px;line-height:1.25;font-family:'Asana Math';-inkscape-font-specification:'Asana Math, Normal';fill:#0016ff;fill-opacity:0.831373;stroke-width:0.264583\" x=\"11.799212\" y=\"117.9839\" id=\"text17024\"><tspan sodipodi:role=\"line\" id=\"tspan17022\" style=\"fill:#0016ff;fill-opacity:0.831373;stroke-width:0.264583\" x=\"11.799212\" y=\"117.9839\">convex</tspan></text>\n",
       "    <text xml:space=\"preserve\" style=\"font-size:3.52777px;line-height:1.25;font-family:'Asana Math';-inkscape-font-specification:'Asana Math, Normal';fill:#088d00;fill-opacity:1;stroke-width:0.264583\" x=\"-19.275728\" y=\"97.793579\" id=\"text17024-3\" transform=\"rotate(-21.38086)\"><tspan sodipodi:role=\"line\" id=\"tspan17022-6\" style=\"fill:#088d00;fill-opacity:1;stroke-width:0.264583\" x=\"-19.275728\" y=\"97.793579\">concave</tspan></text>\n",
       "    <text xml:space=\"preserve\" style=\"font-size:3.52777px;line-height:1.25;font-family:'Asana Math';-inkscape-font-specification:'Asana Math, Normal';fill:#ff8080;fill-opacity:1;stroke:none;stroke-width:0.264583;stroke-opacity:1\" x=\"-24.704988\" y=\"107.60854\" id=\"text17024-5\" transform=\"rotate(-20.805484)\"><tspan sodipodi:role=\"line\" id=\"tspan17022-62\" style=\"fill:#ff8080;fill-opacity:1;stroke:none;stroke-width:0.264583;stroke-opacity:1\" x=\"-24.704988\" y=\"107.60854\">sadle</tspan></text>\n",
       "  </g>\n",
       "</svg>"
      ],
      "text/plain": [
       "<IPython.core.display.SVG object>"
      ]
     },
     "execution_count": 78,
     "metadata": {},
     "output_type": "execute_result"
    }
   ],
   "source": [
    "SVG(filename =\"drawing.svg\")"
   ]
  },
  {
   "attachments": {},
   "cell_type": "markdown",
   "metadata": {},
   "source": [
    "Minimize surface\n",
    "$$\n",
    "dS = \\sqrt{1+y^{\\prime}} dx\n",
    "$$\n",
    "with constant volume\n",
    "$$\n",
    "dV = y dx\n",
    "$$\n",
    "Functional to minimize\n",
    "$$\n",
    "F = S + \\lambda V\n",
    "$$\n",
    "\n",
    "other constrains:\n",
    "$$\n",
    "y(0) = s\n",
    "\\\\\n",
    "y(r) \\ge 0\n",
    "\\\\\n",
    "y^{\\prime}(r) = 0\n",
    "\\\\\n",
    "y^{\\prime\\prime}(x) > 0 \\text{ if } y(r)<y(0)\n",
    "\\\\\n",
    "y^{\\prime\\prime}(x) \\le 0 \\text{ otherwise}\n",
    "$$\n",
    "\n",
    "$$\n",
    "F(y^{\\prime}, y) = \\sqrt{1+(y^{\\prime})^2} + \\lambda y\n",
    "$$\n",
    "\n",
    "Beltrami identity\n",
    "\n",
    "$$\n",
    "F - y^{\\prime} \\frac{\\partial F}{\\partial y^{\\prime}} = C\n",
    "$$\n",
    "\n",
    "$$\n",
    "\\frac{{d}}{{dx}}\\left(\\frac{{\\partial F}}{{\\partial y''}}\\right) = \\frac{{\\partial^2 F}}{{\\partial y \\partial y'}} - \\frac{{\\partial^2 F}}{{\\partial y' \\partial y}}\n",
    "$$"
   ]
  },
  {
   "cell_type": "code",
   "execution_count": 79,
   "metadata": {},
   "outputs": [
    {
     "data": {
      "text/markdown": [
       "$$y^{\\prime} \\frac{\\partial F}{\\partial y^{\\prime}} = \\frac{\\left(y^{\\prime}\\right)^{2}}{\\sqrt{\\left(y^{\\prime}\\right)^{2} + 1}}$$"
      ],
      "text/plain": [
       "<IPython.core.display.Markdown object>"
      ]
     },
     "execution_count": 79,
     "metadata": {},
     "output_type": "execute_result"
    }
   ],
   "source": [
    "F = sp.sqrt(1+yp**2) + l*y\n",
    "second = F.diff(yp)*yp\n",
    "second_term = r\"y^{\\prime} \\frac{\\partial F}{\\partial y^{\\prime}}\"\n",
    "md(f\"$${second_term} = {sp.latex(second)}$$\")"
   ]
  },
  {
   "cell_type": "code",
   "execution_count": 80,
   "metadata": {},
   "outputs": [
    {
     "data": {
      "text/latex": [
       "$\\displaystyle - C + \\lambda y - \\frac{\\left(y^{\\prime}\\right)^{2}}{\\sqrt{\\left(y^{\\prime}\\right)^{2} + 1}} + \\sqrt{\\left(y^{\\prime}\\right)^{2} + 1}$"
      ],
      "text/plain": [
       "-C + \\lambda*y - y^{\\prime}**2/sqrt(y^{\\prime}**2 + 1) + sqrt(y^{\\prime}**2 + 1)"
      ]
     },
     "metadata": {},
     "output_type": "display_data"
    },
    {
     "data": {
      "text/latex": [
       "$\\displaystyle - C + \\lambda y + \\frac{1}{\\sqrt{\\left(y^{\\prime}\\right)^{2} + 1}} = 0$"
      ],
      "text/plain": [
       "Eq(-C + \\lambda*y + 1/sqrt(y^{\\prime}**2 + 1), 0)"
      ]
     },
     "metadata": {},
     "output_type": "display_data"
    }
   ],
   "source": [
    "lhs = F - second - C\n",
    "display(lhs)\n",
    "lhs = lhs.simplify()\n",
    "eq = sp.Eq(lhs, 0)\n",
    "display(eq)\n"
   ]
  },
  {
   "cell_type": "code",
   "execution_count": 81,
   "metadata": {},
   "outputs": [
    {
     "name": "stdout",
     "output_type": "stream",
     "text": [
      "let x = r\n"
     ]
    },
    {
     "data": {
      "text/latex": [
       "$\\displaystyle - C + \\lambda y_{r} + \\frac{1}{\\sqrt{\\left(y^{\\prime}_r\\right)^{2} + 1}} = 0$"
      ],
      "text/plain": [
       "Eq(-C + \\lambda*y_r + 1/sqrt(y^{\\prime}_r**2 + 1), 0)"
      ]
     },
     "metadata": {},
     "output_type": "display_data"
    },
    {
     "data": {
      "text/latex": [
       "$\\displaystyle C = \\lambda y_{r} + 1$"
      ],
      "text/plain": [
       "Eq(C, \\lambda*y_r + 1)"
      ]
     },
     "metadata": {},
     "output_type": "display_data"
    },
    {
     "data": {
      "text/latex": [
       "$\\displaystyle \\lambda y - \\lambda y_{r} - 1 + \\frac{1}{\\sqrt{\\left(y^{\\prime}\\right)^{2} + 1}} = 0$"
      ],
      "text/plain": [
       "Eq(\\lambda*y - \\lambda*y_r - 1 + 1/sqrt(y^{\\prime}**2 + 1), 0)"
      ]
     },
     "metadata": {},
     "output_type": "display_data"
    }
   ],
   "source": [
    "print(\"let x = r\")\n",
    "eq_r = eq.subs(y, yr).subs(yp, ypr)\n",
    "display(eq_r)\n",
    "eq_r = eq_r.subs(ypr, 0)\n",
    "C_ = sp.solve(eq_r, C)[0]\n",
    "display(sp.Eq(C, C_))\n",
    "eq2 = sp.Eq(lhs.subs(C,C_), 0)\n",
    "display(eq2)"
   ]
  },
  {
   "cell_type": "code",
   "execution_count": 82,
   "metadata": {},
   "outputs": [],
   "source": [
    "#lhs_diff = eq2.args[0].diff(y)*yp + eq2.args[0].diff(yp)*ypp\n",
    "#display(sp.Eq(lhs_diff, 0))\n",
    "#lhs_diff = (lhs_diff/yp).simplify()\n",
    "#display(sp.Eq(lhs_diff, 0))\n",
    "#print(\"let x = 0\")\n",
    "#eq3 = sp.Eq(lhs_diff.subs(yp, 0).subs(ypp, yppr), 0)\n",
    "#display(eq3)\n",
    "#l_ = sp.solve(eq3, l)[0]\n",
    "#display(sp.Eq(l, l_))"
   ]
  },
  {
   "cell_type": "code",
   "execution_count": 83,
   "metadata": {},
   "outputs": [
    {
     "data": {
      "text/latex": [
       "$\\displaystyle \\lambda y - \\lambda y_{r} - 1 + \\frac{1}{\\sqrt{\\left(y^{\\prime}\\right)^{2} + 1}} = 0$"
      ],
      "text/plain": [
       "Eq(\\lambda*y - \\lambda*y_r - 1 + 1/sqrt(y^{\\prime}**2 + 1), 0)"
      ]
     },
     "metadata": {},
     "output_type": "display_data"
    }
   ],
   "source": [
    "lhs_ = lhs.subs(C, C_)#.subs(l, l_)\n",
    "display(sp.Eq(lhs_, 0))"
   ]
  },
  {
   "cell_type": "code",
   "execution_count": 84,
   "metadata": {},
   "outputs": [
    {
     "data": {
      "text/latex": [
       "$\\displaystyle y^{\\prime} = - \\sqrt{-1 + \\frac{1}{\\left(\\lambda y - \\lambda y_{r} - 1\\right)^{2}}}$"
      ],
      "text/plain": [
       "Eq(y^{\\prime}, -sqrt(-1 + (\\lambda*y - \\lambda*y_r - 1)**(-2)))"
      ]
     },
     "metadata": {},
     "output_type": "display_data"
    },
    {
     "data": {
      "text/latex": [
       "$\\displaystyle y^{\\prime} = \\sqrt{-1 + \\frac{1}{\\left(\\lambda y - \\lambda y_{r} - 1\\right)^{2}}}$"
      ],
      "text/plain": [
       "Eq(y^{\\prime}, sqrt(-1 + (\\lambda*y - \\lambda*y_r - 1)**(-2)))"
      ]
     },
     "metadata": {},
     "output_type": "display_data"
    }
   ],
   "source": [
    "yp_roots = sp.solve(lhs_, yp)\n",
    "display(*[sp.Eq(yp, yp_root) for yp_root in yp_roots])"
   ]
  },
  {
   "cell_type": "code",
   "execution_count": 85,
   "metadata": {},
   "outputs": [
    {
     "data": {
      "text/latex": [
       "$\\displaystyle \\frac{dy}{\\pm1 \\sqrt{-1 + \\frac{1}{\\left(\\lambda y - \\lambda y_{r} - 1\\right)^{2}}}} = dx$"
      ],
      "text/plain": [
       "Eq(dy/(\\pm1*sqrt(-1 + (\\lambda*y - \\lambda*y_r - 1)**(-2))), dx)"
      ]
     },
     "execution_count": 85,
     "metadata": {},
     "output_type": "execute_result"
    }
   ],
   "source": [
    "dx, dy = symbols(\"dx dy\")\n",
    "pm = symbols(\"\\pm1\")\n",
    "yp_ = yp_roots[1].simplify()*pm\n",
    "lhs = sp.solve((yp_ - yp).subs(yp, dy/dx), dx)[0]\n",
    "sp.Eq(lhs, dx)"
   ]
  },
  {
   "cell_type": "code",
   "execution_count": 86,
   "metadata": {},
   "outputs": [
    {
     "name": "stdout",
     "output_type": "stream",
     "text": [
      "substitute\n"
     ]
    },
    {
     "data": {
      "text/latex": [
       "$\\displaystyle u = 1 - \\left(\\lambda \\left(y - y_{r}\\right) - 1\\right)^{2}$"
      ],
      "text/plain": [
       "Eq(u, 1 - (\\lambda*(y - y_r) - 1)**2)"
      ]
     },
     "metadata": {},
     "output_type": "display_data"
    },
    {
     "data": {
      "text/latex": [
       "$\\displaystyle du = - 2 \\lambda dy \\left(\\lambda \\left(y - y_{r}\\right) - 1\\right)$"
      ],
      "text/plain": [
       "Eq(du, -2*\\lambda*dy*(\\lambda*(y - y_r) - 1))"
      ]
     },
     "metadata": {},
     "output_type": "display_data"
    },
    {
     "data": {
      "text/latex": [
       "$\\displaystyle dy = \\frac{du}{2 \\lambda \\left(- \\lambda y + \\lambda y_{r} + 1\\right)}$"
      ],
      "text/plain": [
       "Eq(dy, du/(2*\\lambda*(-\\lambda*y + \\lambda*y_r + 1)))"
      ]
     },
     "metadata": {},
     "output_type": "display_data"
    }
   ],
   "source": [
    "\n",
    "u = 1 - (l*(y-yr)-1)**2\n",
    "print(\"substitute\")\n",
    "display(sp.Eq(symbols(\"u\"), u))\n",
    "\n",
    "du = u.diff(y)\n",
    "eq=sp.Eq(symbols(\"du\"), du*dy)\n",
    "display(eq)\n",
    "dy_ = sp.solve(eq, dy)[0]\n",
    "display(sp.Eq(symbols(\"dy\"), dy_))"
   ]
  },
  {
   "cell_type": "code",
   "execution_count": 87,
   "metadata": {},
   "outputs": [
    {
     "name": "stdout",
     "output_type": "stream",
     "text": [
      "integrand:\n"
     ]
    },
    {
     "data": {
      "text/latex": [
       "$\\displaystyle \\frac{\\pm1}{2 \\lambda \\sqrt{u}}$"
      ],
      "text/plain": [
       "\\pm1/(2*\\lambda*sqrt(u))"
      ]
     },
     "metadata": {},
     "output_type": "display_data"
    },
    {
     "name": "stdout",
     "output_type": "stream",
     "text": [
      "after integration\n"
     ]
    },
    {
     "data": {
      "text/latex": [
       "$\\displaystyle \\frac{\\pm1 \\sqrt{u}}{\\lambda} = - A + x$"
      ],
      "text/plain": [
       "Eq(\\pm1*sqrt(u)/\\lambda, -A + x)"
      ]
     },
     "metadata": {},
     "output_type": "display_data"
    },
    {
     "name": "stdout",
     "output_type": "stream",
     "text": [
      "finally, after substitution\n"
     ]
    },
    {
     "data": {
      "text/latex": [
       "$\\displaystyle \\frac{\\pm1 \\sqrt{1 - \\left(\\lambda \\left(y - y_{r}\\right) - 1\\right)^{2}}}{\\lambda} = - A + x$"
      ],
      "text/plain": [
       "Eq(\\pm1*sqrt(1 - (\\lambda*(y - y_r) - 1)**2)/\\lambda, -A + x)"
      ]
     },
     "metadata": {},
     "output_type": "display_data"
    }
   ],
   "source": [
    "u_ = symbols(\"u\")\n",
    "rhs = x-A\n",
    "integrand = pm*1/(2*l*sp.sqrt(u_))\n",
    "print(\"integrand:\")\n",
    "display(integrand)\n",
    "print(\"after integration\")\n",
    "lhs = sp.integrate(integrand, u_)\n",
    "eq = sp.Eq(lhs, rhs)\n",
    "display(eq)\n",
    "print(\"finally, after substitution\")\n",
    "eq = eq.subs(u_, u)\n",
    "display(eq)"
   ]
  },
  {
   "cell_type": "code",
   "execution_count": 88,
   "metadata": {},
   "outputs": [
    {
     "data": {
      "text/latex": [
       "$\\displaystyle \\frac{1 - \\left(\\lambda \\left(y - y_{r}\\right) - 1\\right)^{2}}{\\lambda^{2}} = \\left(- A + x\\right)^{2}$"
      ],
      "text/plain": [
       "Eq((1 - (\\lambda*(y - y_r) - 1)**2)/\\lambda**2, (-A + x)**2)"
      ]
     },
     "metadata": {},
     "output_type": "display_data"
    },
    {
     "name": "stdout",
     "output_type": "stream",
     "text": [
      "let x = r\n"
     ]
    },
    {
     "data": {
      "text/latex": [
       "$\\displaystyle \\left(A - r\\right)^{2} = 0$"
      ],
      "text/plain": [
       "Eq((A - r)**2, 0)"
      ]
     },
     "metadata": {},
     "output_type": "display_data"
    },
    {
     "data": {
      "text/latex": [
       "$\\displaystyle A = r$"
      ],
      "text/plain": [
       "Eq(A, r)"
      ]
     },
     "metadata": {},
     "output_type": "display_data"
    },
    {
     "data": {
      "text/latex": [
       "$\\displaystyle \\frac{1 - \\left(\\lambda \\left(y - y_{r}\\right) - 1\\right)^{2}}{\\lambda^{2}} = \\left(- r + x\\right)^{2}$"
      ],
      "text/plain": [
       "Eq((1 - (\\lambda*(y - y_r) - 1)**2)/\\lambda**2, (-r + x)**2)"
      ]
     },
     "metadata": {},
     "output_type": "display_data"
    },
    {
     "name": "stdout",
     "output_type": "stream",
     "text": [
      "let x = 0\n"
     ]
    },
    {
     "data": {
      "text/latex": [
       "$\\displaystyle \\frac{1 - \\left(\\lambda \\left(s - y_{r}\\right) - 1\\right)^{2}}{\\lambda^{2}} = r^{2}$"
      ],
      "text/plain": [
       "Eq((1 - (\\lambda*(s - y_r) - 1)**2)/\\lambda**2, r**2)"
      ]
     },
     "metadata": {},
     "output_type": "display_data"
    }
   ],
   "source": [
    "eq2 = sp.Eq(eq.args[0]**2, eq.args[1]**2).subs(pm, 1)\n",
    "display(eq2)\n",
    "print(\"let x = r\")\n",
    "eqA = eq2.subs(x, r).subs(y, yr).simplify()\n",
    "display(eqA)\n",
    "A_ = sp.solve(eqA , A)[0]\n",
    "display(sp.Eq(A, A_))\n",
    "eq2 = eq2.subs(A, A_)\n",
    "display(eq2)\n",
    "print(\"let x = 0\")\n",
    "eq0 = eq2.subs(x, 0).subs(y, s)\n",
    "display(eq0)"
   ]
  },
  {
   "cell_type": "code",
   "execution_count": 89,
   "metadata": {},
   "outputs": [
    {
     "data": {
      "text/latex": [
       "$\\displaystyle \\lambda = \\frac{2 \\left(s - y_{r}\\right)}{r^{2} + s^{2} - 2 s y_{r} + y_{r}^{2}}$"
      ],
      "text/plain": [
       "Eq(\\lambda, 2*(s - y_r)/(r**2 + s**2 - 2*s*y_r + y_r**2))"
      ]
     },
     "metadata": {},
     "output_type": "display_data"
    },
    {
     "data": {
      "text/latex": [
       "$\\displaystyle \\left(r - x\\right)^{2} = - \\frac{\\left(y - y_{r}\\right) \\left(- r^{2} - s^{2} + s y + s y_{r} - y y_{r}\\right)}{s - y_{r}}$"
      ],
      "text/plain": [
       "Eq((r - x)**2, -(y - y_r)*(-r**2 - s**2 + s*y + s*y_r - y*y_r)/(s - y_r))"
      ]
     },
     "metadata": {},
     "output_type": "display_data"
    }
   ],
   "source": [
    "l_ = sp.solve(eq0, l)[0].simplify()\n",
    "display(sp.Eq(l, l_))\n",
    "eq2 = eq2.subs(l, l_).simplify()\n",
    "eq2 = sp.Eq(eq2.args[0], eq2.args[1].factor())\n",
    "display(eq2)"
   ]
  },
  {
   "cell_type": "code",
   "execution_count": 90,
   "metadata": {},
   "outputs": [
    {
     "data": {
      "text/latex": [
       "$\\displaystyle y = \\frac{r^{2} + s^{2} - y_{r}^{2} - \\sqrt{\\left(r^{2} - 2 r s + 2 r y_{r} + s^{2} + 2 s x - 2 s y_{r} - 2 x y_{r} + y_{r}^{2}\\right) \\left(r^{2} + 2 r s - 2 r y_{r} + s^{2} - 2 s x - 2 s y_{r} + 2 x y_{r} + y_{r}^{2}\\right)}}{2 \\left(s - y_{r}\\right)}$"
      ],
      "text/plain": [
       "Eq(y, (r**2 + s**2 - y_r**2 - sqrt((r**2 - 2*r*s + 2*r*y_r + s**2 + 2*s*x - 2*s*y_r - 2*x*y_r + y_r**2)*(r**2 + 2*r*s - 2*r*y_r + s**2 - 2*s*x - 2*s*y_r + 2*x*y_r + y_r**2)))/(2*(s - y_r)))"
      ]
     },
     "metadata": {},
     "output_type": "display_data"
    },
    {
     "data": {
      "text/latex": [
       "$\\displaystyle y = \\frac{r^{2} + s^{2} - y_{r}^{2} + \\sqrt{\\left(r^{2} - 2 r s + 2 r y_{r} + s^{2} + 2 s x - 2 s y_{r} - 2 x y_{r} + y_{r}^{2}\\right) \\left(r^{2} + 2 r s - 2 r y_{r} + s^{2} - 2 s x - 2 s y_{r} + 2 x y_{r} + y_{r}^{2}\\right)}}{2 \\left(s - y_{r}\\right)}$"
      ],
      "text/plain": [
       "Eq(y, (r**2 + s**2 - y_r**2 + sqrt((r**2 - 2*r*s + 2*r*y_r + s**2 + 2*s*x - 2*s*y_r - 2*x*y_r + y_r**2)*(r**2 + 2*r*s - 2*r*y_r + s**2 - 2*s*x - 2*s*y_r + 2*x*y_r + y_r**2)))/(2*(s - y_r)))"
      ]
     },
     "metadata": {},
     "output_type": "display_data"
    }
   ],
   "source": [
    "y_roots = sp.solve(eq2 , y)\n",
    "display(*[sp.Eq(y, root) for root in y_roots])"
   ]
  },
  {
   "cell_type": "code",
   "execution_count": 91,
   "metadata": {},
   "outputs": [
    {
     "data": {
      "text/latex": [
       "$\\displaystyle y = \\frac{r^{2} + s^{2} - y_{r}^{2} - \\sqrt{\\left(r^{2} - 2 r s + 2 r y_{r} + s^{2} + 2 s x - 2 s y_{r} - 2 x y_{r} + y_{r}^{2}\\right) \\left(r^{2} + 2 r s - 2 r y_{r} + s^{2} - 2 s x - 2 s y_{r} + 2 x y_{r} + y_{r}^{2}\\right)}}{2 \\left(s - y_{r}\\right)}$"
      ],
      "text/plain": [
       "Eq(y, (r**2 + s**2 - y_r**2 - sqrt((r**2 - 2*r*s + 2*r*y_r + s**2 + 2*s*x - 2*s*y_r - 2*x*y_r + y_r**2)*(r**2 + 2*r*s - 2*r*y_r + s**2 - 2*s*x - 2*s*y_r + 2*x*y_r + y_r**2)))/(2*(s - y_r)))"
      ]
     },
     "metadata": {},
     "output_type": "display_data"
    }
   ],
   "source": [
    "y_ = y_roots[0]\n",
    "display(sp.Eq(y, y_))"
   ]
  },
  {
   "cell_type": "code",
   "execution_count": 97,
   "metadata": {},
   "outputs": [
    {
     "data": {
      "text/latex": [
       "$\\displaystyle 0.09$"
      ],
      "text/plain": [
       "0.0900000000000000"
      ]
     },
     "execution_count": 97,
     "metadata": {},
     "output_type": "execute_result"
    }
   ],
   "source": [
    "y_roots[0].subs({s: 1, r:0.3, yr : 0}).subs(x, 0)"
   ]
  },
  {
   "cell_type": "code",
   "execution_count": 17,
   "metadata": {},
   "outputs": [],
   "source": [
    "import numpy as np\n",
    "import functools\n",
    "\n",
    "@functools.lru_cache()\n",
    "def Y_yr(s_, r_, yr_):\n",
    "    def func(x_):\n",
    "        if (x_<0) or (x_>r_):\n",
    "            return np.nan\n",
    "        else:\n",
    "            if yr_ == s_: return lambda _: s_\n",
    "            return sp.N(y_.subs({s:s_, r:r_, yr: yr, x: x_}))\n",
    "    return func\n",
    "\n",
    "def S_yr(s_, r_, yr_, scipy = True):\n",
    "    if yr_==s: return r_\n",
    "    dS = sp.sqrt(1+y_.diff(x)**2).simplify()\n",
    "    dS = dS.subs({s:s_, r:r_, yr: yr_}).simplify()\n",
    "    if scipy:\n",
    "        from scipy.integrate import quad\n",
    "        dS_func = sp.lambdify(x, dS)\n",
    "        return quad(dS_func, 0, r_)[0]\n",
    "    return sp.N(sp.integrate(dS, (x, 0, r_)))\n",
    "\n",
    "def V_yr(s_, r_, yr_, scipy = True):\n",
    "    if yr_ == s_: return s_*r_\n",
    "    if yr_ > s_: raise ValueError(\"yr > s is not yet implemented\")\n",
    "    dV = y_.subs({s:s_, r:r_, yr: yr_})#dx\n",
    "    if scipy:\n",
    "        from scipy.integrate import quad\n",
    "        dV_func = sp.lambdify(x, dV)\n",
    "        return quad(dV_func, 0, r_)[0]\n",
    "    return sp.N(sp.integrate(dV, (x, 0, r_)))\n",
    "\n"
   ]
  },
  {
   "cell_type": "code",
   "execution_count": 18,
   "metadata": {},
   "outputs": [],
   "source": [
    "\n",
    "@functools.lru_cache()\n",
    "def yr_V(s_, r_, V_):\n",
    "    V_min = V_yr(s_, r_, 0)\n",
    "    V_max = s_*r_\n",
    "    if V_ == V_min: return V_min\n",
    "    if V_ == V_max: return V_max\n",
    "    if V_<V_min: return np.nan\n",
    "    if V_>V_max: return np.nan\n",
    "\n",
    "    from scipy.optimize import brentq\n",
    "    def fsolve(yr_):\n",
    "        return V_yr(s_, r_, yr_)-V_\n",
    "    yr_min = max(2*V_/r_ - s_, 0)\n",
    "    yr_max = min(V_/r_, s_)\n",
    "    return brentq(fsolve, yr_min, yr_max)\n",
    "\n",
    "\n",
    "@functools.lru_cache()\n",
    "def Y(s_, r_, V_):\n",
    "    yr_ = yr_V(s_, r_, V_)\n",
    "    print(f\"yr = {yr_}\")\n",
    "    return Y_yr(s_, r_, yr_)\n",
    "\n",
    "@functools.lru_cache()\n",
    "def S(s_, r_,  V_):\n",
    "    yr_ = yr_V(s_, r_, V_)\n",
    "    print(f\"yr = {yr_}\")\n",
    "    return S_yr(s_, r_, yr_)"
   ]
  },
  {
   "attachments": {},
   "cell_type": "markdown",
   "metadata": {},
   "source": [
    "$$\n",
    "\\frac{{d}}{{dx}}\\left(\\frac{{\\partial F}}{{\\partial y''}}\\right) = \\frac{{\\partial^2 F}}{{\\partial y \\partial y'}} - \\frac{{\\partial^2 F}}{{\\partial y' \\partial y}}\n",
    "$$"
   ]
  }
 ],
 "metadata": {
  "kernelspec": {
   "display_name": "venv",
   "language": "python",
   "name": "python3"
  },
  "language_info": {
   "codemirror_mode": {
    "name": "ipython",
    "version": 3
   },
   "file_extension": ".py",
   "mimetype": "text/x-python",
   "name": "python",
   "nbconvert_exporter": "python",
   "pygments_lexer": "ipython3",
   "version": "3.10.6"
  },
  "orig_nbformat": 4
 },
 "nbformat": 4,
 "nbformat_minor": 2
}
